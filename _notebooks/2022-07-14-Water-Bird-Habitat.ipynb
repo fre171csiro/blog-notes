{
 "cells": [
  {
   "cell_type": "markdown",
   "metadata": {},
   "source": [
    "# \"Water Bird Habitat within the Murray-Darling Basin\"\n",
    "> Link back to blog post for overview etc\n",
    "\n",
    "- toc: true\n",
    "- branch: master\n",
    "- badges: true\n",
    "- comments: true\n",
    "- categories: [jupyter]\n",
    "- hide: false\n",
    "- search_exclude: true\n"
   ]
  },
  {
   "cell_type": "markdown",
   "metadata": {},
   "source": [
    "## Overview\n",
    "This notebook has been generated to demonstrate identifying the contributing habitat (feeding) area to areas of potential water bird nesting sites across the Murray-Darling Basin. This information coupled with existing datasets (water bird observations) will be used to build upon current knowledge of water birds and their requirements within the basin. This in turn will help inform environmental watering with a view to sustain and improve water bird breeding throughout the basin.\n",
    "\n",
    "This demonstration notebook is derived from work undertaken within a large body of [work](https://research.csiro.au/mwe/investing-in-ecosystem-functions-knowledge-to-improve-adaptive-management-of-water-for-the-environment-in-the-murray-darling-basin/){:target=\"\\_blank\"} to improve adaptive management of water for the environment in the Murray-Darling Basin"
   ]
  },
  {
   "cell_type": "markdown",
   "metadata": {},
   "source": [
    "## Inputs\n",
    "Bi Monthly Inundation layers, [FwDET data](https://data.csiro.au/collection/csiro:50243){:target=\"\\_blank\"} (25m resolution; MDB extent; bi-monthly time-step; 1988-2020)\n",
    "\n",
    "## Description of methods\n",
    "The type of method/analysis use is known as a Focal Statistic.  Where the neighbouring cells to a specific cell is defined as a kernel (the focal).  And the statistic performed on valid values found within this kernel area.\n",
    "- Focal Statistic (sum) is executed for each valid pixel and each time-step of the bi-monthly inundation data, [FwDET](https://data.csiro.au/collection/csiro:50243){:target=\"\\_blank\"}\n",
    "- **Valid pixels**: values are calculated for all pixels covered by water (cell values greater than zero) or within 500m of water coverage.\n",
    "- Return nodata for all pixels that are not 'valid pixels'.\n",
    "- For all valid pixels, return the area (in hectares) within the specified kernel radius, that is within the specified inundation depth range.\n",
    "- Two radii are applied:\n",
    "    1. 3 km\n",
    "    1. 20 km\n",
    "- Two water depth ranges are applied:\n",
    "    1. 0.5 to 1.0 m depth\n",
    "    1. 0.5 to 1.5 m depth\n",
    "- The combination of neighbourhood radii and depth range mean there will be four output products, each at the bi-monthly time-step.\n",
    "## Outputs\n",
    "[Bi Monthly layers](https://data.csiro.au/collection/csiro:55490){:target=\"\\_blank\"} for area of waterbird habitat (~100m resolution; MDB extent; bi-monthly time-step; 1988-2020) - in as similar file / folder format / structure & naming convention to the inundation data as possible."
   ]
  }
 ],
 "metadata": {
  "kernelspec": {
   "display_name": "Python 3.8.8 64-bit",
   "language": "python",
   "name": "python3"
  },
  "language_info": {
   "name": "python",
   "version": "3.8.8"
  },
  "orig_nbformat": 4,
  "vscode": {
   "interpreter": {
    "hash": "f38341ab6b4850169c0ae14e493bcf0848f0d768242f4d802d3fbfac2edcaf23"
   }
  }
 },
 "nbformat": 4,
 "nbformat_minor": 2
}
